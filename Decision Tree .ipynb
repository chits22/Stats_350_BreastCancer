{
 "cells": [
  {
   "cell_type": "code",
   "execution_count": null,
   "metadata": {},
   "outputs": [],
   "source": [
    "from sklearn.tree import DecisionTreeClassifier\n",
    "clf_gini = DecisionTreeClassifier(criterion = \"gini\", random_state = 100)\n",
    "decision_tree = clf_gini.fit(x_train, y_train)\n",
    "dtfeatures = list(zip(headers, decision_tree.feature_importances_))\n",
    "\n"
   ]
  },
  {
   "cell_type": "code",
   "execution_count": null,
   "metadata": {},
   "outputs": [],
   "source": [
    "sorted_features_dt = sorted(dtfeatures, key = lambda x:x[1], reverse = True)\n",
    "print(sorted_features_dt)"
   ]
  },
  {
   "cell_type": "code",
   "execution_count": null,
   "metadata": {},
   "outputs": [],
   "source": [
    "select = SelectFromModel(decision_tree, threshold = 0.1)\n",
    "select.fit(x_train, y_train)\n",
    "predictorsdt = []\n",
    "for feature_list_index in select.get_support(indices=True):\n",
    "    predictorsdt.append(headers[feature_list_index])\n",
    "print(predictorsdt)\n",
    "print(len(predictorsdt))"
   ]
  },
  {
   "cell_type": "code",
   "execution_count": null,
   "metadata": {},
   "outputs": [],
   "source": [
    "to_drop_dt = list(set(headers) - set(predictorsdt))\n",
    "dt_data = data.drop(to_drop_dt, 1)\n",
    "dt_corr = dt_data.corr()\n",
    "figdt = sns.heatmap(dt_corr, \n",
    "        annot = True,\n",
    "        xticklabels=dt_corr.columns,\n",
    "        yticklabels=dt_corr.columns)\n",
    "plt.show()"
   ]
  },
  {
   "cell_type": "code",
   "execution_count": null,
   "metadata": {},
   "outputs": [],
   "source": [
    "x_important_train_dt= select.transform(x_train)\n",
    "x_important_test_dt = select.transform(x_test)\n",
    "x_important_dt = select.transform(x)\n",
    "dt = LogisticRegression(C=1e50)\n",
    "dt.fit(x_important_train_dt, y_train)\n",
    "print(dt.coef_)"
   ]
  },
  {
   "cell_type": "code",
   "execution_count": null,
   "metadata": {},
   "outputs": [],
   "source": [
    "dt_predicted = dt.predict(x_important_test_dt)\n",
    "dt_probs = dt.predict_proba(x_important_test_dt)\n",
    "dt_probs = np.delete(dt_probs, np.s_[0:1], axis =1).flatten()\n",
    "plt.hist(dt_probs)\n",
    "plt.show()"
   ]
  },
  {
   "cell_type": "code",
   "execution_count": null,
   "metadata": {},
   "outputs": [],
   "source": [
    "print(metrics.accuracy_score(y_test, dt_predicted))\n",
    "print(metrics.roc_auc_score(y_test, dt_probs))\n",
    "print(metrics.confusion_matrix(y_test, dt_predicted))\n",
    "print(metrics.classification_report(y_test, dt_predicted))"
   ]
  },
  {
   "cell_type": "code",
   "execution_count": null,
   "metadata": {},
   "outputs": [],
   "source": [
    "acc_dt = cross_val_score(LogisticRegression(C = 1e50), x_important_dt, y, scoring = 'accuracy', cv = 10)\n",
    "print('Accuracy:' + str(acc_dt.mean()))\n",
    "recall_dt = cross_val_score(LogisticRegression(C = 1e50), x_important_dt, y, scoring = 'recall', cv = 10)\n",
    "print('Sensitivity:' + str(recall_dt.mean()))\n",
    "prec_dt = cross_val_score(LogisticRegression(C = 1e50), x_important_dt, y, scoring = specificity, cv = 10)\n",
    "print('Specificity:' + str(prec_dt.mean()))"
   ]
  }
 ],
 "metadata": {
  "kernelspec": {
   "display_name": "Python 3",
   "language": "python",
   "name": "python3"
  },
  "language_info": {
   "codemirror_mode": {
    "name": "ipython",
    "version": 3
   },
   "file_extension": ".py",
   "mimetype": "text/x-python",
   "name": "python",
   "nbconvert_exporter": "python",
   "pygments_lexer": "ipython3",
   "version": "3.6.4"
  }
 },
 "nbformat": 4,
 "nbformat_minor": 2
}
